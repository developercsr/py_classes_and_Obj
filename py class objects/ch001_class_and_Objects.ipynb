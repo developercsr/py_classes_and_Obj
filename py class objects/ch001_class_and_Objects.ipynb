{
 "cells": [
  {
   "cell_type": "code",
   "execution_count": 83,
   "metadata": {},
   "outputs": [],
   "source": [
    "#Rough WOrk\n",
    "# class MyClass:\n",
    "#     def __init__(self, value):##################################################   CONSTRUCTOR           :: CALLED WHEN AN OBJECT IS ABOUT TO CREATED \n",
    "#         self.value = value\n",
    "#     def __del__(self):##########################################################   DESTRUCTOR            :: CALLED WHEN AN OBJECT IS ABOUT TO DESTROY \n",
    "#         print(f\"Deleting: {self.value}\")\n",
    "#     def __repr__(self):#########################################################   REPRESENTATION        :: OFFICIAL REPRESENTATION OF THE OBJECT USED FOR DEBUGGING\n",
    "#         return f\"MyClass({self.value})\"\n",
    "#     def __str__(self):##########################################################   STRING REPRESENTATION :: USER FRIENDLY STRING REP OF OBJECT \n",
    "#         return f\"String representation: {self.value}\"\n",
    "#     def __bytes__(self):########################################################   Bytes conversion      ::  CONVERT THE OBJECT TO BYTES\n",
    "#         return bytes(self.value, encoding='utf-8')\n",
    "#     def __format__(self, format_spec):\n",
    "#         return f\"Formatted: {self.value:{format_spec}}\"\n",
    "#     def __len__(self):##########################################################   __len__(FINDS THE LENGTH)::fINDS THE LEGTH OF THE GIVEN OBJECT\n",
    "#         return len(self.value)\n",
    "#     def __getitem__(self, key):\n",
    "#         return self.value[key]\n",
    "#     def __setitem__(self, key, value):\n",
    "#         self.value[key] = value\n",
    "#     def __delitem__(self, key):\n",
    "#         del self.value[key]\n",
    "#     def __iter__(self):\n",
    "#         return iter(self.value)\n",
    "#     def __next__(self):\n",
    "#         return next(self.value)\n",
    "#     def __contains__(self, item):\n",
    "#         return item in self.value\n",
    "#     def __call__(self, *args):\n",
    "#         return sum(args)\n",
    "#     def __eq__(self, other):\n",
    "#         return self.value == other.value\n",
    "#     def __ne__(self, other):\n",
    "#         return self.value != other.value\n",
    "#     def __lt__(self, other):\n",
    "#         return self.value < other.value\n",
    "#     def __le__(self, other):\n",
    "#         return self.value <= other.value\n",
    "#     def __gt__(self, other):\n",
    "#         return self.value > other.value\n",
    "#     def __ge__(self, other):\n",
    "#         return self.value >= other.value\n",
    "#     def __add__(self, other):\n",
    "#         return self.value + other.value\n",
    "#     def __sub__(self, other):\n",
    "#         return self.value - other.value\n",
    "#     def __mul__(self, other):\n",
    "#         return self.value * other.value\n",
    "#     def __truediv__(self, other):\n",
    "#         return self.value / other.value\n",
    "#     def __floordiv__(self, other):\n",
    "#         return self.value // other.value\n",
    "#     def __mod__(self, other):\n",
    "#         return self.value % other.value\n",
    "#     def __pow__(self, other):\n",
    "#         return self.value ** other.value\n",
    "#     def __and__(self, other):\n",
    "#         return self.value & other.value\n",
    "#     def __or__(self, other):\n",
    "#         return self.value | other.value\n",
    "#     def __xor__(self, other):\n",
    "#         return self.value ^ other.value\n",
    "#     def __invert__(self):\n",
    "#         return ~self.value\n",
    "#     def __lshift__(self, other):\n",
    "#         return self.value << other.value\n",
    "#     def __rshift__(self, other):\n",
    "#         return self.value >> other.value\n",
    "#     def __bool__(self):\n",
    "#         return bool(self.value)\n",
    "\n",
    "# # Example usage\n",
    "# if __name__ == \"__main__\":\n",
    "#     obj1=MyClass(12345)\n",
    "#     print(repr(obj1))\n",
    "#     print(str(obj1))\n",
    "#     # print(bytes(obj1))\n",
    "#     print(len(obj1))\n",
    "#     print(format(obj1,\"upper\"))\n",
    "#     print(format(obj1,\"lower\"))\n",
    "#     # obj1 = MyClass(10)\n",
    "#     # obj2 = MyClass(5)\n",
    "\n",
    "#     # print(repr(obj1))\n",
    "#     # print(str(obj1))\n",
    "#     # # print(bytes(obj1))\n",
    "#     # print(len(\"Hello\"))\n",
    "#     # print(obj1 + obj2)\n",
    "#     # print(obj1 - obj2)\n",
    "#     # print(obj1 * obj2)\n",
    "#     # print(obj1 / obj2)\n",
    "#     # print(obj1(1, 2, 3))\n",
    "#     # print(obj1 == obj2)\n",
    "#     # print(obj1 > obj2)"
   ]
  },
  {
   "cell_type": "code",
   "execution_count": 84,
   "metadata": {},
   "outputs": [],
   "source": [
    "class Car:\n",
    "    def __init__(self,number,model,brand):\n",
    "        self.number=number\n",
    "        self.model=model\n",
    "        self.brand=brand\n",
    "    \n",
    "    def __str__(self):\n",
    "        print(self.number)\n",
    "        print(self.model)\n",
    "        print(self.brand)\n",
    "        return \"The All details are printed!\"\n",
    "    \n",
    "    def __del__(self):\n",
    "        print(f\"The Object {self} is deleted\")"
   ]
  },
  {
   "cell_type": "code",
   "execution_count": 85,
   "metadata": {},
   "outputs": [
    {
     "name": "stdout",
     "output_type": "stream",
     "text": [
      "123\n",
      "OWN\n",
      "MYBRAND\n",
      "The All details are printed!\n"
     ]
    }
   ],
   "source": [
    "mycar=Car(123,\"OWN\",\"MYBRAND\")\n",
    "print(mycar)"
   ]
  },
  {
   "cell_type": "code",
   "execution_count": 86,
   "metadata": {},
   "outputs": [],
   "source": [
    "class ArthamaticOperations:\n",
    "    def __init__(self,a,b,c):\n",
    "        self.a=a\n",
    "        self.b=b\n",
    "        self.c=c\n",
    "    def __add__(self,another):\n",
    "        return (self.a+another.a,self.b+another.b,self.c+another.c)\n",
    "    def __sub__(self,another):\n",
    "        return (self.a-another.a,self.b-another.b,self.c-another.c)\n",
    "    def __mul__(self,another):\n",
    "        return (self.a*another.a,self.b*another.b,self.c*another.c)\n",
    "    def __truediv__(self,another):\n",
    "        return (self.a/another.a,self.b/another.b,self.c/another.c)\n",
    "    def __floordiv__(self,another):\n",
    "        return (self.a//another.a,self.b//another.b,self.c//another.c)\n",
    "    def __mod__(self,another):\n",
    "        return (self.a%another.a,self.b%another.b,self.c%another.c)\n",
    "    def __pow__(self,another):\n",
    "        return (self.a**another.a,self.b**another.b,self.c**another.c)"
   ]
  },
  {
   "cell_type": "code",
   "execution_count": 87,
   "metadata": {},
   "outputs": [
    {
     "name": "stdout",
     "output_type": "stream",
     "text": [
      "(5, 7, 9)\n",
      "(-3, -3, -3)\n",
      "(4, 10, 18)\n",
      "(0.25, 0.4, 0.5)\n",
      "(1, 32, 729)\n",
      "(0, 0, 0)\n",
      "(1, 2, 3)\n"
     ]
    }
   ],
   "source": [
    "A=ArthamaticOperations(1,2,3)\n",
    "B=ArthamaticOperations(4,5,6)\n",
    "print(A+B)\n",
    "print(A-B)\n",
    "print(A*B)\n",
    "print(A/B)\n",
    "print(A**B)\n",
    "print(A//B)\n",
    "print(A%B)"
   ]
  },
  {
   "cell_type": "code",
   "execution_count": 88,
   "metadata": {},
   "outputs": [],
   "source": [
    "class ComparisionOperators:\n",
    "    def __init__(self,a,b):\n",
    "        self.a=a \n",
    "        self.b=b \n",
    "    def __eq__(self,other):\n",
    "        return self.a==other.a\n",
    "    def __ne__(self,other):\n",
    "        return self.a!=other.a\n",
    "    def __gt__(self,other):\n",
    "        return self.a>other.a\n",
    "    def __lt__(self,other):\n",
    "        return self.a<other.a\n",
    "    def __le__(self,other):\n",
    "        return self.a<=other.a\n",
    "    def __ge__(self,other):\n",
    "        return self.a>=other.a  "
   ]
  },
  {
   "cell_type": "code",
   "execution_count": 89,
   "metadata": {},
   "outputs": [
    {
     "name": "stdout",
     "output_type": "stream",
     "text": [
      "False\n",
      "True\n",
      "False\n",
      "True\n",
      "False\n",
      "True\n"
     ]
    }
   ],
   "source": [
    "A=ComparisionOperators(1,2)\n",
    "B=ComparisionOperators(3,4)\n",
    "print(A==B)\n",
    "print(A<B)\n",
    "print(A>B)\n",
    "print(A<=B)\n",
    "print(A>=B)\n",
    "print(A!=B)\n"
   ]
  },
  {
   "cell_type": "code",
   "execution_count": 90,
   "metadata": {},
   "outputs": [],
   "source": [
    "class DataStructures:\n",
    "    def __init__(self,datstruct):\n",
    "        self.ds=datstruct\n",
    "    def __len__(self):\n",
    "        return len(self.ds)\n",
    "    def __getitem__(self,key):\n",
    "        return self.ds[key]\n",
    "    def __setitem__(self,val,key):\n",
    "        self.ds[key]=val\n",
    "    def __delitem__(self, key):\n",
    "        del self.ds[key]\n",
    "    def __contains__(self, item):\n",
    "        return item in self.ds\n",
    "    def __str__(self):\n",
    "        return str(self.ds)"
   ]
  },
  {
   "cell_type": "code",
   "execution_count": 91,
   "metadata": {},
   "outputs": [
    {
     "name": "stdout",
     "output_type": "stream",
     "text": [
      "5\n",
      "2\n",
      "[1, 2, 3, 4, 6]\n",
      "[1, 3, 4, 6]\n",
      "False\n",
      "[1, 3, 4, 6]\n"
     ]
    }
   ],
   "source": [
    "A=DataStructures([1,2,3,4,5])\n",
    "print(len(A))\n",
    "print(A[1])\n",
    "A[6]=4\n",
    "print(A)\n",
    "del A[1]\n",
    "print(A)\n",
    "print(2 in A)\n",
    "print(A)"
   ]
  },
  {
   "cell_type": "code",
   "execution_count": 92,
   "metadata": {},
   "outputs": [],
   "source": [
    "class Iteration:\n",
    "    def __init__(self,item):\n",
    "        self.iterds=item\n",
    "        self.index=0\n",
    "    def __iter__(self):\n",
    "        return self\n",
    "    def __next__(self):\n",
    "        if self.index < len(self.iterds):\n",
    "            result=self.iterds[self.index]\n",
    "            self.index+=1\n",
    "            return result\n",
    "        else:\n",
    "            raise StopIteration\n"
   ]
  },
  {
   "cell_type": "code",
   "execution_count": 93,
   "metadata": {},
   "outputs": [
    {
     "name": "stdout",
     "output_type": "stream",
     "text": [
      "1\n",
      "2\n",
      "3\n",
      "4\n",
      "5\n",
      "6\n"
     ]
    }
   ],
   "source": [
    "K=Iteration((1,2,3,4,5,6))\n",
    "for i in K:\n",
    "    print(i)"
   ]
  },
  {
   "cell_type": "code",
   "execution_count": 94,
   "metadata": {},
   "outputs": [],
   "source": [
    "class Callable:\n",
    "    def __init__(self,mul):\n",
    "        self.mul=mul\n",
    "    def __call__(self,val):\n",
    "        return self.mul*val"
   ]
  },
  {
   "cell_type": "code",
   "execution_count": 95,
   "metadata": {},
   "outputs": [
    {
     "name": "stdout",
     "output_type": "stream",
     "text": [
      "9\n"
     ]
    }
   ],
   "source": [
    "S=Callable(3)\n",
    "print(S(3))"
   ]
  },
  {
   "cell_type": "code",
   "execution_count": 96,
   "metadata": {},
   "outputs": [],
   "source": [
    "class ObjectControl:\n",
    "    def __init__(self,name,name1,name2):\n",
    "        self.attname=name\n",
    "        self.attname1=name1\n",
    "        self.attname2=name2\n",
    "    def __getattr__(self, name):\n",
    "        if name in self.__dict__:\n",
    "            return self.__dict__[name]\n",
    "        else:\n",
    "            return \"The Attribute doesnot exists\"\n",
    "    def __setattr__(self, name, value):\n",
    "        super().__setattr__(name,value)\n",
    "    def __delattr__(self,name):\n",
    "        super().__delattr__(name)"
   ]
  },
  {
   "cell_type": "code",
   "execution_count": 97,
   "metadata": {},
   "outputs": [
    {
     "name": "stdout",
     "output_type": "stream",
     "text": [
      "2\n",
      "The Attribute doesnot exists\n",
      "8\n",
      "The Attribute doesnot exists\n",
      "{'attname': 1, 'attname1': 2, 'attname2': 3}\n"
     ]
    }
   ],
   "source": [
    "Z = ObjectControl(1, 2, 3)\n",
    "print(Z.attname1)\n",
    "print(Z.nnn)\n",
    "Z.attname3 = 8\n",
    "print(Z.attname3)\n",
    "del Z.attname3\n",
    "print(Z.attname3)\n",
    "print(Z.__dict__)"
   ]
  },
  {
   "cell_type": "code",
   "execution_count": 98,
   "metadata": {},
   "outputs": [],
   "source": [
    "class FileManager:\n",
    "    def __init__(self,filename,mode):\n",
    "        self.filename=filename\n",
    "        self.mode=mode\n",
    "    def __enter__(self):\n",
    "        self.file=open(self.filename,self.mode)\n",
    "        return self.file\n",
    "    def __exit__(self,ex_type,ex_value,traceback):\n",
    "        self.file.close()"
   ]
  },
  {
   "cell_type": "code",
   "execution_count": 99,
   "metadata": {},
   "outputs": [],
   "source": [
    "with open(\"txt.txt\",\"w\") as f:\n",
    "    f=f.write(\"I am sumanth\")\n"
   ]
  },
  {
   "cell_type": "code",
   "execution_count": 100,
   "metadata": {},
   "outputs": [],
   "source": [
    "import copy\n",
    "class ObjectOp:\n",
    "    _instance=None\n",
    "    def __init__(self,value): # Inintialize the object with values\n",
    "        self.value=value\n",
    "    \n",
    "    # def __new__(cls, *args, **kwargs):\n",
    "    #     if cls._instance is None:\n",
    "    #         cls._instance = super(ObjectOp, cls).__new__(cls)\n",
    "    #     return cls._instance\n",
    "\n",
    "    def __copy__(self):\n",
    "        return ObjectOp(self.value)\n",
    "\n",
    "    def __deepcopy__(self,memo):\n",
    "        val=copy.deepcopy(self.value,memo)\n",
    "        return ObjectOp(val)\n"
   ]
  },
  {
   "cell_type": "code",
   "execution_count": 101,
   "metadata": {},
   "outputs": [
    {
     "name": "stdout",
     "output_type": "stream",
     "text": [
      "These for new method\n",
      "10\n",
      "20\n",
      "False\n",
      "OBJECT COPY\n",
      "[1, 2, 3]\n",
      "[1, 2, 3]\n",
      "[1, 2, 3]\n",
      "[1, 2, 3]\n",
      "[1, 2, 3]\n",
      "[1, 2, 3, 5]\n"
     ]
    }
   ],
   "source": [
    "import copy\n",
    "print(\"These for new method\")\n",
    "singleton1 = ObjectOp(10)\n",
    "singleton2 = ObjectOp(20)\n",
    "print(singleton1.value)\n",
    "print(singleton2.value)\n",
    "print(singleton1 is singleton2)\n",
    "print(\"OBJECT COPY\")\n",
    "obj1=ObjectOp([1,2,3])\n",
    "obj2=copy.copy(obj1)\n",
    "obj3=copy.deepcopy(obj1)\n",
    "print(obj1.value)\n",
    "print(obj2.value)\n",
    "print(obj3.value)\n",
    "# obj2.value.append(4)\n",
    "obj3.value.append(5)\n",
    "# obj3.value.append(4)\n",
    "print(obj1.value)\n",
    "print(obj2.value)\n",
    "print(obj3.value)"
   ]
  },
  {
   "cell_type": "code",
   "execution_count": 102,
   "metadata": {},
   "outputs": [
    {
     "name": "stdout",
     "output_type": "stream",
     "text": [
      "Bow\n",
      "I am an animal\n",
      "I have Life\n",
      "4\n",
      "3\n",
      "2\n"
     ]
    }
   ],
   "source": [
    "#Inheritance\n",
    "# If the child do not init it looks for the parent \n",
    "class Being:\n",
    "    def __init__(self):\n",
    "        print(\"I have Life\")\n",
    "    a=2\n",
    "class Animal(Being):\n",
    "    b=3\n",
    "    def __init__(self):\n",
    "        print(\"I am an animal\")\n",
    "class Dog(Animal):\n",
    "    c=4\n",
    "    def __init__(self):\n",
    "        print(\"Bow\")\n",
    "    \n",
    "haski=Dog()\n",
    "dog=Animal()\n",
    "any=Being()\n",
    "print(haski.c)\n",
    "print(dog.b)\n",
    "print(any.a)"
   ]
  },
  {
   "cell_type": "code",
   "execution_count": 103,
   "metadata": {},
   "outputs": [
    {
     "name": "stdout",
     "output_type": "stream",
     "text": [
      "I am from class A\n",
      "I ma from class B\n"
     ]
    }
   ],
   "source": [
    "#Overriding\n",
    "class A:\n",
    "    def tell(self):\n",
    "        print(\"I am from class A\")\n",
    "class B(A):\n",
    "    def tell(self):\n",
    "        print(\"I ma from class B\")\n",
    "\n",
    "a=A()\n",
    "b=B()\n",
    "a.tell()\n",
    "b.tell()"
   ]
  },
  {
   "cell_type": "code",
   "execution_count": 104,
   "metadata": {},
   "outputs": [
    {
     "name": "stdout",
     "output_type": "stream",
     "text": [
      "4\n",
      "HiiJai\n"
     ]
    }
   ],
   "source": [
    "#Operational Overloading\n",
    "class A:\n",
    "    def __init__(self,a,b):\n",
    "        self.a=a \n",
    "        self.b=b\n",
    "    \n",
    "    def __add__(self,another):\n",
    "        return self.a+another.a\n",
    "a1=A(1,2)\n",
    "a2=A(\"Hii\",\"RAM\")\n",
    "b1=A(3,4)\n",
    "b2=A(\"Jai\",\"Hind\")\n",
    "print(a1+b1)\n",
    "print(a2+b2)"
   ]
  },
  {
   "cell_type": "code",
   "execution_count": 105,
   "metadata": {},
   "outputs": [
    {
     "name": "stdout",
     "output_type": "stream",
     "text": [
      "The ID is: 103\n",
      "The Name is: Suraj kr gupta\n",
      "The Address is: Noida\n",
      "The Emails is: KKK@gmails\n"
     ]
    }
   ],
   "source": [
    "#super()\n",
    "class Emp():\n",
    "    def __init__(self, id, name, Add):\n",
    "        self.id = id\n",
    "        self.name = name\n",
    "        self.Add = Add\n",
    "\n",
    "# Class freelancer inherits EMP\n",
    "class Freelance(Emp):\n",
    "    def __init__(self, id, name, Add, Emails):\n",
    "        super().__init__(id, name, Add)\n",
    "        self.Emails = Emails\n",
    "\n",
    "Emp_1 = Freelance(103, \"Suraj kr gupta\", \"Noida\" , \"KKK@gmails\")\n",
    "print('The ID is:', Emp_1.id)\n",
    "print('The Name is:', Emp_1.name)\n",
    "print('The Address is:', Emp_1.Add)\n",
    "print('The Emails is:', Emp_1.Emails)"
   ]
  },
  {
   "cell_type": "code",
   "execution_count": 106,
   "metadata": {},
   "outputs": [
    {
     "name": "stdout",
     "output_type": "stream",
     "text": [
      "Animal speaks\n",
      "Bird flies\n",
      "Eagle hunts\n",
      "[<class '__main__.Eagle'>, <class '__main__.Animal'>, <class '__main__.Bird'>, <class 'object'>]\n"
     ]
    }
   ],
   "source": [
    "#Multiple Inheritance\n",
    "# Define first parent class\n",
    "class Animal:\n",
    "    def speak(self):\n",
    "        return \"Animal speaks\"\n",
    "\n",
    "# Define second parent class\n",
    "class Bird:\n",
    "    def fly(self):\n",
    "        return \"Bird flies\"\n",
    "\n",
    "# Define child class that inherits from both Animal and Bird\n",
    "class Eagle(Animal, Bird):\n",
    "    def hunt(self):\n",
    "        return \"Eagle hunts\"\n",
    "\n",
    "# Create an instance of the Eagle class\n",
    "eagle = Eagle()\n",
    "\n",
    "# Call methods from both parent classes and the child class\n",
    "print(eagle.speak())\n",
    "print(eagle.fly())  \n",
    "print(eagle.hunt())\n",
    "print(Eagle.mro())"
   ]
  },
  {
   "cell_type": "code",
   "execution_count": 107,
   "metadata": {},
   "outputs": [
    {
     "name": "stdout",
     "output_type": "stream",
     "text": [
      "Animal speaks\n",
      "Mammal walks\n",
      "Dog barks\n"
     ]
    }
   ],
   "source": [
    "#Multilevel inheritance\n",
    "# Define the grandparent class\n",
    "class Animal:\n",
    "    def speak(self):\n",
    "        return \"Animal speaks\"\n",
    "\n",
    "# Define the parent class that inherits from Animal\n",
    "class Mammal(Animal):\n",
    "    def walk(self):\n",
    "        return \"Mammal walks\"\n",
    "\n",
    "# Define the child class that inherits from Mammal\n",
    "class Dog(Mammal):\n",
    "    def bark(self):\n",
    "        return \"Dog barks\"\n",
    "\n",
    "# Create an instance of the Dog class\n",
    "dog = Dog()\n",
    "\n",
    "# Call methods from the grandparent, parent, and child classes\n",
    "print(dog.speak())\n",
    "print(dog.walk())\n",
    "print(dog.bark())\n"
   ]
  },
  {
   "cell_type": "code",
   "execution_count": 108,
   "metadata": {},
   "outputs": [
    {
     "name": "stdout",
     "output_type": "stream",
     "text": [
      "Vehicle is starting\n",
      "Car is driving\n",
      "Vehicle is starting\n",
      "Bike is riding\n",
      "Vehicle is starting\n",
      "Truck is loading\n"
     ]
    }
   ],
   "source": [
    "#Hyrarichal Inheritance\n",
    "# Define the parent class\n",
    "class Vehicle:\n",
    "    def start(self):\n",
    "        return \"Vehicle is starting\"\n",
    "\n",
    "    def stop(self):\n",
    "        return \"Vehicle is stopping\"\n",
    "\n",
    "# Define the first child class that inherits from Vehicle\n",
    "class Car(Vehicle):\n",
    "    def drive(self):\n",
    "        return \"Car is driving\"\n",
    "\n",
    "# Define the second child class that inherits from Vehicle\n",
    "class Bike(Vehicle):\n",
    "    def ride(self):\n",
    "        return \"Bike is riding\"\n",
    "\n",
    "# Define the third child class that inherits from Vehicle\n",
    "class Truck(Vehicle):\n",
    "    def load(self):\n",
    "        return \"Truck is loading\"\n",
    "\n",
    "# Create instances of each child class\n",
    "car = Car()\n",
    "bike = Bike()\n",
    "truck = Truck()\n",
    "\n",
    "# Call methods from the parent class and the child classes\n",
    "print(car.start())\n",
    "print(car.drive())\n",
    "\n",
    "print(bike.start())\n",
    "print(bike.ride())\n",
    "\n",
    "print(truck.start())\n",
    "print(truck.load())"
   ]
  },
  {
   "cell_type": "code",
   "execution_count": 109,
   "metadata": {},
   "outputs": [
    {
     "name": "stdout",
     "output_type": "stream",
     "text": [
      "Animal speaks\n",
      "Mammal walks\n",
      "Bird flies\n",
      "Bat hangs upside down\n"
     ]
    }
   ],
   "source": [
    "#Hybrid inheritance\n",
    "# Define the base class\n",
    "class Animal:\n",
    "    def speak(self):\n",
    "        return \"Animal speaks\"\n",
    "\n",
    "# Define a class that inherits from Animal (Single Inheritance)\n",
    "class Mammal(Animal):\n",
    "    def walk(self):\n",
    "        return \"Mammal walks\"\n",
    "\n",
    "# Define another class that inherits from Animal (Single Inheritance)\n",
    "class Bird(Animal):\n",
    "    def fly(self):\n",
    "        return \"Bird flies\"\n",
    "\n",
    "# Define a child class that inherits from both Mammal and Bird (Multiple Inheritance)\n",
    "class Bat(Mammal, Bird):\n",
    "    def hang(self):\n",
    "        return \"Bat hangs upside down\"\n",
    "\n",
    "# Create an instance of the Bat class\n",
    "bat = Bat()\n",
    "\n",
    "# Call methods from the parent classes and the Bat class\n",
    "print(bat.speak())\n",
    "print(bat.walk())\n",
    "print(bat.fly())\n",
    "print(bat.hang())\n"
   ]
  },
  {
   "cell_type": "code",
   "execution_count": 110,
   "metadata": {},
   "outputs": [
    {
     "name": "stdout",
     "output_type": "stream",
     "text": [
      "Dog barks\n",
      "Cat meows\n"
     ]
    }
   ],
   "source": [
    "#Polymorphism\n",
    "#Overriding\n",
    "# Base class\n",
    "class Animal:\n",
    "    def speak(self):\n",
    "        return \"Animal speaks\"\n",
    "\n",
    "# Subclass Dog overrides speak method\n",
    "class Dog(Animal):\n",
    "    def speak(self):\n",
    "        return \"Dog barks\"\n",
    "\n",
    "# Subclass Cat overrides speak method\n",
    "class Cat(Animal):\n",
    "    def speak(self):\n",
    "        return \"Cat meows\"\n",
    "\n",
    "# Function that uses polymorphism\n",
    "def animal_sound(animal):\n",
    "    print(animal.speak())\n",
    "\n",
    "# Create instances of Dog and Cat\n",
    "dog = Dog()\n",
    "cat = Cat()\n",
    "\n",
    "# Call the function with different animal types\n",
    "animal_sound(dog)\n",
    "animal_sound(cat) "
   ]
  },
  {
   "cell_type": "code",
   "execution_count": 111,
   "metadata": {},
   "outputs": [
    {
     "name": "stdout",
     "output_type": "stream",
     "text": [
      "5\n",
      "9\n"
     ]
    }
   ],
   "source": [
    "class MathOperations:\n",
    "    def add(self,*ls):\n",
    "        sum=0\n",
    "        for i in ls:\n",
    "            sum+=i\n",
    "        return sum\n",
    "\n",
    "math = MathOperations()\n",
    "\n",
    "print(math.add(2, 3)) \n",
    "print(math.add(2, 3, 4))    "
   ]
  },
  {
   "cell_type": "code",
   "execution_count": 112,
   "metadata": {},
   "outputs": [
    {
     "name": "stdout",
     "output_type": "stream",
     "text": [
      "Quack!\n",
      "I'm quacking like a duck!\n"
     ]
    }
   ],
   "source": [
    "#Duck Typing\n",
    "class Duck:\n",
    "    def quack(self):\n",
    "        return \"Quack!\"\n",
    "\n",
    "class Person:\n",
    "    def quack(self):\n",
    "        return \"I'm quacking like a duck!\"\n",
    "\n",
    "def make_it_quack(thing):\n",
    "    print(thing.quack())\n",
    "\n",
    "# Create instances of Duck and Person\n",
    "duck = Duck()\n",
    "person = Person()\n",
    "\n",
    "# Both can be passed to the same function\n",
    "make_it_quack(duck)\n",
    "make_it_quack(person)\n"
   ]
  },
  {
   "cell_type": "code",
   "execution_count": 113,
   "metadata": {},
   "outputs": [
    {
     "name": "stdout",
     "output_type": "stream",
     "text": [
      "Bark!\n",
      "Meow!\n"
     ]
    }
   ],
   "source": [
    "#Abstraction\n",
    "from abc import ABC, abstractmethod\n",
    "\n",
    "# Define an abstract class\n",
    "class Animal(ABC):\n",
    "    @abstractmethod\n",
    "    def speak(self):\n",
    "        pass\n",
    "\n",
    "# Subclass Dog implementing the abstract method\n",
    "class Dog(Animal):\n",
    "    def speak(self):\n",
    "        return \"Bark!\"\n",
    "\n",
    "# Subclass Cat implementing the abstract method\n",
    "class Cat(Animal):\n",
    "    def speak(self):\n",
    "        return \"Meow!\"\n",
    "\n",
    "# Function to demonstrate abstraction\n",
    "def animal_sound(animal: Animal):\n",
    "    print(animal.speak())\n",
    "\n",
    "# Create instances of Dog and Cat\n",
    "dog = Dog()\n",
    "cat = Cat()\n",
    "\n",
    "# Call the function with different animal types\n",
    "animal_sound(dog)\n",
    "animal_sound(cat)\n"
   ]
  },
  {
   "cell_type": "code",
   "execution_count": 114,
   "metadata": {},
   "outputs": [
    {
     "name": "stdout",
     "output_type": "stream",
     "text": [
      "Name: RAM\n",
      "Age:  20\n"
     ]
    }
   ],
   "source": [
    "#Encapsulation\n",
    "# program to illustrate public access modifier in a class\n",
    "class Geek:\n",
    "\n",
    "    # constructor\n",
    "    def __init__(self, name, age):\n",
    "\n",
    "        # public data members\n",
    "        self.geekName = name\n",
    "        self.geekAge = age\n",
    "\n",
    "    # public member function\n",
    "    def displayAge(self):\n",
    "\n",
    "        # accessing public data member\n",
    "        print(\"Age: \", self.geekAge)\n",
    "\n",
    "\n",
    "# creating object of the class\n",
    "obj = Geek(\"RAM\", 20)\n",
    "# accessing public data member\n",
    "print(\"Name:\", obj.geekName)\n",
    "\n",
    "# calling public member function of the class\n",
    "obj.displayAge()\n"
   ]
  },
  {
   "cell_type": "code",
   "execution_count": 115,
   "metadata": {},
   "outputs": [
    {
     "name": "stdout",
     "output_type": "stream",
     "text": [
      "Alpha\n",
      "Roll: 1234567\n",
      "Branch: Computer Science\n",
      "\n",
      "Name: RAJ\n",
      "Roll: 1706256\n",
      "Branch: Information Technology\n",
      "Name: Sumanth\n",
      "Roll: 1706256\n",
      "Branch: Information Technology\n",
      "Name: Sumanth\n",
      "Roll: 1253619\n",
      "Branch: Information Technology\n"
     ]
    }
   ],
   "source": [
    "#Protected Variables\n",
    "# program to illustrate protected access modifier in a class\n",
    "\n",
    "# super class\n",
    "class Student:\n",
    "    _name = None\n",
    "    _roll = None\n",
    "    _branch = None\n",
    "\n",
    "    def __init__(self, name, roll, branch):\n",
    "        self._name = name\n",
    "        self._roll = roll\n",
    "        self._branch = branch\n",
    "    def _displayRollAndBranch(self):\n",
    "        print(\"Roll:\", self._roll)\n",
    "        print(\"Branch:\", self._branch)\n",
    "    \n",
    "\n",
    "# derived class\n",
    "class Geek(Student):\n",
    "    def __init__(self, name, roll, branch):\n",
    "        Student.__init__(self, name, roll, branch)\n",
    "    def displayDetails(self):\n",
    "        print(\"Name:\", self._name)\n",
    "        self._displayRollAndBranch()\n",
    "    def settingroll(self,roll):\n",
    "        self._roll=roll\n",
    "\n",
    "\n",
    "stu = Student(\"Alpha\", 1234567, \"Computer Science\")\n",
    "print(stu._name)\n",
    "stu._displayRollAndBranch()\n",
    "obj = Geek(\"RAJ\", 1706256, \"Information Technology\")\n",
    "print(\"\")\n",
    "obj.displayDetails()\n",
    "obj._name=\"Sumanth\"\n",
    "obj.displayDetails()\n",
    "obj.settingroll(1253619)\n",
    "obj.displayDetails()"
   ]
  },
  {
   "cell_type": "code",
   "execution_count": 116,
   "metadata": {},
   "outputs": [
    {
     "name": "stdout",
     "output_type": "stream",
     "text": [
      "\n",
      "Trying to access privarte variables\n",
      "R2J\n",
      "1706256\n",
      "Information Technology\n",
      "Name: R2J\n",
      "Roll: 1706256\n",
      "Branch: Information Technology\n",
      "\n",
      "Name: R2J\n",
      "Roll: 1706256\n",
      "Branch: Information Technology\n",
      "Name: R2J\n",
      "Roll: 12345\n",
      "Branch: Information Technology\n"
     ]
    }
   ],
   "source": [
    "#private Variables\n",
    "# program to illustrate private access modifier in a class\n",
    "\n",
    "class Geek:\n",
    "    __name = None\n",
    "    __roll = None\n",
    "    __branch = None\n",
    "    def __init__(self, name, roll, branch):\n",
    "        self.__name = name\n",
    "        self.__roll = roll\n",
    "        self.__branch = branch\n",
    "    def __displayDetails(self):\n",
    "        print(\"Name:\", self.__name)\n",
    "        print(\"Roll:\", self.__roll)\n",
    "        print(\"Branch:\", self.__branch)\n",
    "    def accessPrivateFunction(self):\n",
    "        self.__displayDetails()\n",
    "    \n",
    "    def edit_roll(self,roll):\n",
    "        self.__roll=roll\n",
    "obj = Geek(\"R2J\", 1706256, \"Information Technology\")\n",
    "\n",
    "# print(dir(obj))\n",
    "print(\"\")\n",
    "try:\n",
    "    obj.__name\n",
    "    obj.__roll\n",
    "    obj.__branch\n",
    "    obj.__displayDetails()\n",
    "except Exception as e:\n",
    "    print(\"Trying to access privarte variables\")\n",
    "\n",
    "# To access private members of a class\n",
    "print(obj._Geek__name)\n",
    "print(obj._Geek__roll)\n",
    "print(obj._Geek__branch)\n",
    "obj._Geek__displayDetails()\n",
    "\n",
    "print(\"\")\n",
    "obj.accessPrivateFunction()\n",
    "\n",
    "obj.edit_roll(12345)\n",
    "obj._Geek__displayDetails()\n"
   ]
  }
 ],
 "metadata": {
  "kernelspec": {
   "display_name": "Python 3",
   "language": "python",
   "name": "python3"
  },
  "language_info": {
   "codemirror_mode": {
    "name": "ipython",
    "version": 3
   },
   "file_extension": ".py",
   "mimetype": "text/x-python",
   "name": "python",
   "nbconvert_exporter": "python",
   "pygments_lexer": "ipython3",
   "version": "3.11.5"
  }
 },
 "nbformat": 4,
 "nbformat_minor": 2
}
